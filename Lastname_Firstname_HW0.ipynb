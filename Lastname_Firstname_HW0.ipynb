{
 "cells": [
  {
   "cell_type": "markdown",
   "id": "c1548705",
   "metadata": {},
   "source": [
    "# HW0\n",
    "\n",
    "**Name:** _<Your Name Here>_  \n",
    "**USC ID:** _<Your USC ID Here>_  \n",
    "**GitHub Username:** `Saturnjupiter27`\n",
    "\n",
    "> Before submitting: in Colab or Jupyter, use **Runtime → Restart and run all** (or **Kernel → Restart & Run All**) to ensure a clean run."
   ]
  },
  {
   "cell_type": "code",
   "execution_count": null,
   "id": "bfadb2df",
   "metadata": {},
   "outputs": [],
   "source": [
    "# Imports (keep together)\n",
    "from pathlib import Path\n",
    "import numpy as np\n",
    "import pandas as pd\n",
    "import matplotlib.pyplot as plt\n",
    "\n",
    "RNG = np.random.default_rng(42)\n",
    "ROOT = Path.cwd()\n",
    "DATA = ROOT / \"data\"\n",
    "print(\"ROOT:\", ROOT)\n",
    "print(\"DATA:\", DATA)"
   ]
  },
  {
   "cell_type": "markdown",
   "id": "e7a7eed7",
   "metadata": {},
   "source": [
    "## Q1"
   ]
  },
  {
   "cell_type": "code",
   "execution_count": null,
   "id": "be63aa37",
   "metadata": {},
   "outputs": [],
   "source": [
    "# Your code for Q1"
   ]
  },
  {
   "cell_type": "markdown",
   "id": "740a3083",
   "metadata": {},
   "source": [
    "## Q2"
   ]
  },
  {
   "cell_type": "code",
   "execution_count": null,
   "id": "36165d14",
   "metadata": {},
   "outputs": [],
   "source": [
    "# Your code for Q2"
   ]
  },
  {
   "cell_type": "markdown",
   "id": "e1ed6041",
   "metadata": {},
   "source": [
    "## References\n",
    "- (Add links/papers you used.)"
   ]
  }
 ],
 "metadata": {},
 "nbformat": 4,
 "nbformat_minor": 5
}
